{
 "cells": [
  {
   "cell_type": "code",
   "execution_count": 1,
   "metadata": {},
   "outputs": [],
   "source": [
    "import numpy as np"
   ]
  },
  {
   "cell_type": "code",
   "execution_count": null,
   "metadata": {},
   "outputs": [],
   "source": [
    "rest_wav = [('CaII K', 3933.67), ('CaII H', 3968.47), ('Mg I (b)', 5176), ('Ca triplet_I', 8498.03),\n",
    "             ('Ca triplet_III', 8662.14)] #('Ca triplet_II', 8542.09)"
   ]
  },
  {
   "cell_type": "code",
   "execution_count": null,
   "metadata": {},
   "outputs": [],
   "source": [
    "fi = open('../target_sample.txt', 'r')\n",
    "fo = open('../target_wav.txt', 'w')\n",
    "\n",
    "for line in fi:\n",
    "    l = line.split()\n",
    "    line = line.rstrip('\\n')\n",
    "    if l[0] == 'Lens' :\n",
    "        fo.write(line + '\\tCaII K  ' + '\\tCaII H  ' + '\\tMg I (b)' + '\\tCa triplet_I' + \n",
    "                  '\\tCa triplet_III'+ '\\n')  \n",
    "    else:\n",
    "        fo.write(line)\n",
    "        if len(l[3]) < 8 :\n",
    "            flag = 1\n",
    "            \n",
    "        for i, p in enumerate(rest_wav):\n",
    "            z = float(l[3])\n",
    "            redshifted_wav = (1 + z)* p[1]\n",
    "             \n",
    "            if flag :\n",
    "                fo.write('\\t\\t'+ format(redshifted_wav, '.4f'))\n",
    "                flag = 0\n",
    "                if len(format(redshifted_wav, '.4f')) < 8 :\n",
    "                    flag = 1\n",
    "            else:\n",
    "                fo.write('\\t' + format(redshifted_wav, '.4f'))\n",
    "                \n",
    "        fo.write('\\n')\n",
    "        \n",
    "fi.close()\n",
    "fo.close()"
   ]
  },
  {
   "cell_type": "code",
   "execution_count": null,
   "metadata": {},
   "outputs": [],
   "source": []
  }
 ],
 "metadata": {
  "kernelspec": {
   "display_name": "Python 3",
   "language": "python",
   "name": "python3"
  },
  "language_info": {
   "codemirror_mode": {
    "name": "ipython",
    "version": 3
   },
   "file_extension": ".py",
   "mimetype": "text/x-python",
   "name": "python",
   "nbconvert_exporter": "python",
   "pygments_lexer": "ipython3",
   "version": "3.7.4"
  }
 },
 "nbformat": 4,
 "nbformat_minor": 4
}
