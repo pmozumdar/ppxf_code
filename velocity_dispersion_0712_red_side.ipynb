{
 "cells": [
  {
   "cell_type": "code",
   "execution_count": null,
   "metadata": {},
   "outputs": [],
   "source": [
    "from ppxf.ppxf import ppxf\n",
    "import ppxf.ppxf_util as util\n",
    "from specim.specfuncs import spec1d\n",
    "import numpy as np\n",
    "import matplotlib.pyplot as plt\n",
    "import glob\n",
    "from random import sample\n",
    "import pandas as pd\n",
    "import seaborn as sn\n",
    "import pm_veldis_util as vd\n",
    "from collections import Counter\n",
    "from keckcode.deimos import deimosmask1d"
   ]
  },
  {
   "cell_type": "code",
   "execution_count": null,
   "metadata": {},
   "outputs": [],
   "source": [
    "coadded_spectra_red = deimosmask1d.DeimosMask1d('../galaxy_spectra/0712m4_coadd.fits')"
   ]
  },
  {
   "cell_type": "code",
   "execution_count": null,
   "metadata": {},
   "outputs": [],
   "source": [
    "specid_red = [] #np.zeros(coadded_spectra.nspec)\n",
    "info = coadded_spectra_red.slitinfo\n",
    "#print(info)\n",
    "for i in range(coadded_spectra_red.nspec):\n",
    "    spec_id = '%d_%d_%d_%d' % (info['det'][i], info['slitid'][i], info['objid'][i], info['spatloc'][i])\n",
    "    specid_red.append(spec_id)\n",
    "    print(spec_id)"
   ]
  },
  {
   "cell_type": "code",
   "execution_count": null,
   "metadata": {},
   "outputs": [],
   "source": [
    "gal_spec_id_red = specid_red[1]\n",
    "print('galaxy_spectra_id: %s' % (gal_spec_id_red))\n",
    "data_red =  coadded_spectra_red[gal_spec_id_red]\n",
    "#print(data)\n",
    "data_red.smooth(7)\n",
    "data_red.mark_lines('abs', z=0.405, usesmooth=True)\n",
    "data_red.save('0712_lens_spectra_red_side.txt', outformat='text')\n",
    "#lamda_galaxy = data['wav']\n",
    "#spectra_galaxy = data['flux']\n",
    "#variance_spectra_galaxy = data['var']\n",
    "#sky_spectra_galaxy = data['sky']"
   ]
  },
  {
   "cell_type": "code",
   "execution_count": null,
   "metadata": {},
   "outputs": [],
   "source": [
    "z = 0.405\n",
    "lam_temp_ini = 3465.0       \n",
    "lam_temp_fin = 9469.00\n",
    "lam_range_min = lam_temp_ini*(1+z)\n",
    "lam_range_max = lam_temp_fin*(1+z)\n",
    "print(lam_range_min)\n",
    "print(lam_range_max)"
   ]
  },
  {
   "cell_type": "code",
   "execution_count": null,
   "metadata": {},
   "outputs": [],
   "source": [
    "lamda_galaxy_red = data_red['wav']\n",
    "spectra_galaxy_red = data_red['flux']\n",
    "variance_spectra_galaxy_red = data_red['var']\n",
    "sky_spectra_galaxy_red = data_red['sky']\n",
    "lamda_galaxy_range_red =  [np.min(lamda_galaxy_red), np.max(lamda_galaxy_red)]\n",
    "#lamda_galaxy.tolist().index(4999.94676193628)\n",
    "plt.plot(lamda_galaxy_red, spectra_galaxy_red, 'b')\n",
    "#plt.figure()\n",
    "plt.plot(lamda_galaxy_red, variance_spectra_galaxy_red*0.1, 'r')\n",
    "#plt.figure()\n",
    "#plt.plot(lamda_galaxy[:500], sky_spectra_galaxy[:500], 'g')"
   ]
  },
  {
   "cell_type": "code",
   "execution_count": null,
   "metadata": {},
   "outputs": [],
   "source": [
    "# Calulating velocity scale\n",
    "\n",
    "velocity_scale_red = vd.velocity_scale(lamda_galaxy_red)\n",
    "\n",
    "# Calculating the parameter 'dv'\n",
    "\n",
    "dv_red = vd.wav_dev(lamda_galaxy_red[0])\n",
    "\n",
    "# Initial guess for velocity and velocity dispersion\n",
    "\n",
    "c = 299792.458\n",
    "vel = c*np.log(1 + z)   # eq.(8) of Cappellari (2017)\n",
    "start = [vel, 200.0]  \n",
    "\n",
    "# Logarithmically rebinning the galaxy spectra\n",
    "\n",
    "median_spectra_gal_red = np.median(spectra_galaxy_red)       # median of the spectra_galaxy\n",
    "spectra_galaxy_normalized_red = spectra_galaxy_red / median_spectra_gal_red\n",
    "spectra_galaxy_rebinned_red, log_lamda_galaxy_red, v_red = util.log_rebin(lamda_galaxy_range_red, \n",
    "                                        spectra_galaxy_normalized_red, velscale=velocity_scale_red)\n",
    "plt.plot(log_lamda_galaxy_red, spectra_galaxy_rebinned_red)\n",
    "plt.title('logarithmically rebinned galaxy spectra')\n",
    "plt.show()\n",
    "\n",
    "## Noise\n",
    "\n",
    "sigma_galaxy_spectra_red = np.sqrt(variance_spectra_galaxy_red) \n",
    "noise_red = sigma_galaxy_spectra_red / median_spectra_gal_red\n",
    "\n",
    "#constant_noise = np.full_like(spectra_galaxy_rebinned, 0.02) \n",
    "noise_rebinned_red, log_lamda_noise_red, velo_scale_red = util.log_rebin(lamda_galaxy_range_red, noise_red,\n",
    "                                                          velscale=velocity_scale_red)\n",
    "\n",
    "plt.plot(log_lamda_noise_red, noise_rebinned_red)\n",
    "plt.title('logarithmically rebinned noise')\n",
    "#plt.plot(log_lamda_galaxy, spectra_galaxy_rebinned, label='logarithmically rebinned galaxy spectra')\n",
    "#plt.plot(log_lamda_galaxy, constant_noise, label='constant noise')\n",
    "#plt.legend()\n",
    "plt.show()\n",
    "#print(velo_scale)\n",
    "#print(np.size(noise_new))\n",
    "\n",
    "\n",
    "# Calculating the difference in sigma between the instrumental LSF of the galaxy spectra and templates.\n",
    "# Here sigma of the instrument, 'sig_ins', has been obtained by performing Gaussian fit with several emission \n",
    "# lines from the galaxy spectra.\n",
    "\n",
    "sigma_diff = vd.gen_sigma_diff(sig_ins=1.982, lam_gal=lamda_galaxy_red)\n"
   ]
  },
  {
   "cell_type": "code",
   "execution_count": null,
   "metadata": {},
   "outputs": [],
   "source": [
    "v_red"
   ]
  },
  {
   "cell_type": "code",
   "execution_count": null,
   "metadata": {},
   "outputs": [],
   "source": [
    "#%matplotlib inline\n",
    "plt.plot(log_lamda_galaxy, spectra_galaxy_rebinned)"
   ]
  },
  {
   "cell_type": "code",
   "execution_count": null,
   "metadata": {},
   "outputs": [],
   "source": [
    "sky_spectra_normalized_red = sky_spectra_galaxy_red / np.median(sky_spectra_galaxy_red)\n",
    "sky_spectra_rebinned_red, log_lamda_sky_red, v_red = util.log_rebin(lamda_galaxy_range_red, \n",
    "                                                sky_spectra_normalized_red, velscale=velocity_scale_red)"
   ]
  },
  {
   "cell_type": "code",
   "execution_count": null,
   "metadata": {},
   "outputs": [],
   "source": [
    "mask_region = [[(8.8351, 8.83976), (8.9344, 8.9508), (9.03385, 9.03853), (9.04731, 9.04993), (9.0919, 9.1035)],\n",
    "              [(8.8351, 8.83976), (8.9344, 8.9808), (9.02787, 9.1035)],\n",
    "              [(8.8351, 8.83976), (8.9344, 8.9808), (9.0127, 9.02541), (9.02787, 9.1035)],\n",
    "              [(8.8282, 8.84105), (8.9344, 8.9808), (9.0131, 9.02541), (9.02787, 9.1035)], \n",
    "              [(8.7045, 8.7326), (8.8282, 8.84105), (8.9344, 8.9808), (9.0131, 9.02541), (9.02787, 9.1035)]] \n",
    "#(8.95506, 8.97243), (8.82944, ), (8.95506, 8.9808), (9.0839, 9.1035) (9.02787, 9.05235),"
   ]
  },
  {
   "cell_type": "code",
   "execution_count": null,
   "metadata": {},
   "outputs": [],
   "source": [
    "templates_red = vd.gen_rebinned_templates(lib_path='../TEXT/*', temp_num=850, sigma_diff=sigma_diff,\n",
    "                                      v=velocity_scale_red)"
   ]
  },
  {
   "cell_type": "code",
   "execution_count": null,
   "metadata": {
    "scrolled": false
   },
   "outputs": [],
   "source": [
    "for i, m in enumerate(mask_region):\n",
    "    mask = vd.masking(m, log_lamda_galaxy)\n",
    "    pp = ppxf(templates, spectra_galaxy_rebinned, noise_rebinned, velocity_scale, start, moments=4,\n",
    "              plot=True, vsyst=dv, degree=4, mask=mask, lam=np.exp(log_lamda_galaxy), \n",
    "              sky=sky_spectra_rebinned)\n",
    "    plt.figure()"
   ]
  },
  {
   "cell_type": "code",
   "execution_count": null,
   "metadata": {},
   "outputs": [],
   "source": [
    "degree = np.arange(4,21)\n",
    "#velocity_dispersion = np.zeros(len(degree))\n",
    "velocity_dispersion = []\n",
    "error_corrected = [] #np.zeros(len(degree))\n",
    "#error = np.zeros(len(degree))\n",
    "error = []\n",
    "#mask = vd.masking(mask_region[0], log_lamda_galaxy)\n",
    "for j, m in enumerate(mask_region):\n",
    "    mask = vd.masking(m, log_lamda_galaxy)\n",
    "    vel_dis = np.zeros(len(degree))\n",
    "    err = np.zeros(len(degree))\n",
    "    err_corr = np.zeros(len(degree))\n",
    "    for i in range(len(degree)):\n",
    "        pp = ppxf(templates, spectra_galaxy_rebinned, noise_rebinned, velocity_scale, start, moments=4,\n",
    "                 plot=False, degree=degree[i], vsyst=dv, mask= mask, lam=np.exp(log_lamda_galaxy))#,\n",
    "                 #sky=sky_spectra_rebinned)\n",
    "        vel_dis[i] = pp.sol[1]\n",
    "        err[i] = pp.error[1]\n",
    "        err_corr[i] = pp.error[1]*np.sqrt(pp.chi2)\n",
    "    velocity_dispersion.append(vel_dis)\n",
    "    error.append(err)\n",
    "    error_corrected.append(err_corr)\n",
    "#plt.figure()\n",
    "#print('degree : %d' %degree[i])"
   ]
  },
  {
   "cell_type": "code",
   "execution_count": null,
   "metadata": {},
   "outputs": [],
   "source": [
    "color = ['b', 'g', 'r', 'k', 'y']\n",
    "label = ['mask_reg_1', 'mask_reg_2', 'mask_reg_3', 'mask_reg_4', 'mask_reg_5']\n",
    "for i, p in enumerate(velocity_dispersion):\n",
    "    plt.plot(degree, p, '.-', ms=10, color=color[i], label=label[i])\n",
    "    \n",
    "#plt.plot(degree, velocity_dispersion, '.')\n",
    "plt.xlabel('degree')\n",
    "plt.ylabel('velocity dispersion')\n",
    "plt.legend()\n",
    "#plt.title('with mask region 2')\n",
    "#plt.ylim(280, 400)\n",
    "#plt.figure()"
   ]
  },
  {
   "cell_type": "code",
   "execution_count": null,
   "metadata": {},
   "outputs": [],
   "source": [
    "color = ['b', 'g', 'r', 'k', 'y']\n",
    "label = ['mask_reg_1', 'mask_reg_2', 'mask_reg_3', 'mask_reg_4', 'mask_reg_5']\n",
    "for i, p in enumerate(error):\n",
    "    plt.plot(degree, p, '.-', color=color[i], label=label[i])\n",
    "    \n",
    "#plt.plot(degree, velocity_dispersion, '.')\n",
    "plt.xlabel('degree')\n",
    "plt.ylabel('error')\n",
    "plt.legend()\n",
    "#plt.title('with mask region 2')\n",
    "plt.ylim(5, 12)\n",
    "#plt.figure()"
   ]
  },
  {
   "cell_type": "code",
   "execution_count": null,
   "metadata": {},
   "outputs": [],
   "source": [
    "degree = np.arange(4,18)\n",
    "velocity_dispersion = np.zeros(len(degree))\n",
    "error_corrected = np.zeros(len(degree))\n",
    "error = np.zeros(len(degree))\n",
    "mask = vd.masking(mask_region[0], log_lamda_galaxy)\n",
    "for i in range(len(degree)):\n",
    "    pp = ppxf(templates, spectra_galaxy_rebinned, noise_rebinned, velocity_scale, start, moments=4,\n",
    "         plot=True, degree=degree[i], vsyst=dv, mask= mask, lam=np.exp(log_lamda_galaxy))\n",
    "    velocity_dispersion[i] = pp.sol[1]\n",
    "    error[i] = pp.error[1]\n",
    "    error_corrected[i] = pp.error[1]*np.sqrt(pp.chi2)\n",
    "    plt.figure()\n",
    "    print('degree : %d' %degree[i])"
   ]
  },
  {
   "cell_type": "code",
   "execution_count": null,
   "metadata": {},
   "outputs": [],
   "source": [
    "plt.plot(degree, velocity_dispersion, '.')\n",
    "plt.xlabel('degree')\n",
    "plt.ylabel('velocity dispersion')\n",
    "#plt.title('with mask region 2')\n",
    "#plt.ylim(280, 400)\n",
    "plt.figure()"
   ]
  },
  {
   "cell_type": "code",
   "execution_count": null,
   "metadata": {},
   "outputs": [],
   "source": [
    "plt.plot(degree, error, '.')\n",
    "plt.xlabel('degree')\n",
    "plt.ylabel('error')\n",
    "#plt.title('with mask region 2')\n",
    "#plt.ylim(7, 11)\n",
    "plt.figure()"
   ]
  },
  {
   "cell_type": "code",
   "execution_count": null,
   "metadata": {},
   "outputs": [],
   "source": [
    "degree = np.arange(4,21)\n",
    "velocity_dispersion = np.zeros(len(degree))\n",
    "error_corrected = np.zeros(len(degree))\n",
    "error = np.zeros(len(degree))\n",
    "mask = vd.masking(mask_region[0], log_lamda_galaxy)\n",
    "for i in range(len(degree)):\n",
    "    pp = ppxf(templates, spectra_galaxy_rebinned, noise_rebinned, velocity_scale, start, moments=4,\n",
    "         plot=True, degree=degree[i], vsyst=dv, mask= mask, lam=np.exp(log_lamda_galaxy), \n",
    "         sky=sky_spectra_rebinned)\n",
    "    velocity_dispersion[i] = pp.sol[1]\n",
    "    error[i] = pp.error[1]\n",
    "    error_corrected[i] = pp.error[1]*np.sqrt(pp.chi2)\n",
    "    plt.figure()\n",
    "    print('degree : %d' %degree[i])"
   ]
  },
  {
   "cell_type": "code",
   "execution_count": null,
   "metadata": {},
   "outputs": [],
   "source": [
    "plt.plot(degree, velocity_dispersion, '.')\n",
    "plt.xlabel('degree')\n",
    "plt.ylabel('velocity dispersion')\n",
    "#plt.title('with mask region 2')\n",
    "plt.ylim(280, 410)\n",
    "plt.figure()"
   ]
  },
  {
   "cell_type": "code",
   "execution_count": null,
   "metadata": {},
   "outputs": [],
   "source": [
    "plt.plot(degree, error, '.')\n",
    "plt.xlabel('degree')\n",
    "plt.ylabel('error')\n",
    "#plt.title('with mask region 2')\n",
    "plt.ylim(8, 11)\n",
    "plt.figure()"
   ]
  },
  {
   "cell_type": "code",
   "execution_count": null,
   "metadata": {},
   "outputs": [],
   "source": [
    "coadded_spectra_blue = deimosmask1d.DeimosMask1d('../galaxy_spectra/0712m4-blue-coadd_latest.fits')"
   ]
  },
  {
   "cell_type": "code",
   "execution_count": null,
   "metadata": {},
   "outputs": [],
   "source": [
    "specid_blue = [] #np.zeros(coadded_spectra.nspec)\n",
    "info = coadded_spectra_blue.slitinfo\n",
    "#print(info)\n",
    "for i in range(coadded_spectra_blue.nspec):\n",
    "    spec_id = '%d_%d_%d_%d' % (info['det'][i], info['slitid'][i], info['objid'][i], info['spatloc'][i])\n",
    "    specid_blue.append(spec_id)\n",
    "    print(spec_id)"
   ]
  },
  {
   "cell_type": "code",
   "execution_count": null,
   "metadata": {},
   "outputs": [],
   "source": [
    "gal_spec_id_blue = specid_blue[10]\n",
    "print('galaxy_spectra_id: %s' % (gal_spec_id_blue))\n",
    "data_blue =  coadded_spectra_blue[gal_spec_id_blue]\n",
    "#print(data)\n",
    "data_blue.smooth(7)\n",
    "data_blue.mark_lines('abs', z=0.405, usesmooth=True)\n",
    "#lamda_galaxy = data['wav']\n",
    "#spectra_galaxy = data['flux']\n",
    "#variance_spectra_galaxy = data['var']\n",
    "#sky_spectra_galaxy = data['sky']"
   ]
  },
  {
   "cell_type": "code",
   "execution_count": null,
   "metadata": {},
   "outputs": [],
   "source": [
    "data_blue.save('0712_lens_spectra_blue_side.txt', outformat='text')"
   ]
  },
  {
   "cell_type": "code",
   "execution_count": null,
   "metadata": {},
   "outputs": [],
   "source": [
    "d = spec1d.Spec1d('0712_lens_spectra_blue_side.txt')\n",
    "d.smooth(7)\n",
    "d.mark_lines('abs', z=0.405, usesmooth=True)"
   ]
  },
  {
   "cell_type": "code",
   "execution_count": null,
   "metadata": {},
   "outputs": [],
   "source": [
    "data_blue.find_dispave(data_blue['wav'])"
   ]
  },
  {
   "cell_type": "code",
   "execution_count": null,
   "metadata": {},
   "outputs": [],
   "source": [
    "data_red.find_dispave(data_red['wav'])"
   ]
  },
  {
   "cell_type": "code",
   "execution_count": null,
   "metadata": {},
   "outputs": [],
   "source": [
    "len(data_red['wav'])"
   ]
  },
  {
   "cell_type": "code",
   "execution_count": null,
   "metadata": {},
   "outputs": [],
   "source": [
    "a = np.round(np.linspace(data_blue['wav'][0], data_blue['wav'][-1], num=3199), 2)\n",
    "print(a)\n",
    "data_blue.find_dispave(a)"
   ]
  },
  {
   "cell_type": "code",
   "execution_count": null,
   "metadata": {},
   "outputs": [],
   "source": [
    "data_blue.resample(owave=a)\n",
    "data_blue.save('resampled_lens_galaxy_blue_side.txt', outformat='text', useresamp=True)"
   ]
  },
  {
   "cell_type": "code",
   "execution_count": null,
   "metadata": {},
   "outputs": [],
   "source": [
    "d"
   ]
  },
  {
   "cell_type": "code",
   "execution_count": null,
   "metadata": {},
   "outputs": [],
   "source": []
  }
 ],
 "metadata": {
  "kernelspec": {
   "display_name": "Python 3",
   "language": "python",
   "name": "python3"
  },
  "language_info": {
   "codemirror_mode": {
    "name": "ipython",
    "version": 3
   },
   "file_extension": ".py",
   "mimetype": "text/x-python",
   "name": "python",
   "nbconvert_exporter": "python",
   "pygments_lexer": "ipython3",
   "version": "3.7.4"
  }
 },
 "nbformat": 4,
 "nbformat_minor": 4
}
